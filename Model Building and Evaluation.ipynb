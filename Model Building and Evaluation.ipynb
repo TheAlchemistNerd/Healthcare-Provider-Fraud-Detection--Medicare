{
 "cells": [
  {
   "cell_type": "code",
   "execution_count": 1,
   "id": "215a119c-a7c3-4abc-b962-976d51c2157f",
   "metadata": {},
   "outputs": [],
   "source": [
    "import pandas as pd\n",
    "import numpy as np\n",
    "\n",
    "import seaborn as sns\n",
    "import matplotlib.pyplot as plt\n",
    "\n",
    "import warnings"
   ]
  },
  {
   "cell_type": "code",
   "execution_count": 2,
   "id": "ac8874d7-df26-4fea-883e-b3c94b7dce1a",
   "metadata": {},
   "outputs": [],
   "source": [
    "warnings.filterwarnings('ignore')"
   ]
  },
  {
   "cell_type": "markdown",
   "id": "17d2d1d2-382b-4e0a-b5ca-788ad5baf631",
   "metadata": {},
   "source": [
    "## Loading Cleaned Train and Test Datasets"
   ]
  },
  {
   "cell_type": "code",
   "execution_count": 3,
   "id": "b8e78e49-4757-4435-a392-6f481ac08e22",
   "metadata": {},
   "outputs": [],
   "source": [
    "train_data = pd.read_csv(\"clean_train.csv\",index_col=0)\n",
    "test_data = pd.read_csv(\"clean_test.csv\",index_col=0)"
   ]
  },
  {
   "cell_type": "code",
   "execution_count": 4,
   "id": "17cb007a-68ca-478e-9f77-3a541dc587f9",
   "metadata": {},
   "outputs": [
    {
     "data": {
      "text/html": [
       "<div>\n",
       "<style scoped>\n",
       "    .dataframe tbody tr th:only-of-type {\n",
       "        vertical-align: middle;\n",
       "    }\n",
       "\n",
       "    .dataframe tbody tr th {\n",
       "        vertical-align: top;\n",
       "    }\n",
       "\n",
       "    .dataframe thead th {\n",
       "        text-align: right;\n",
       "    }\n",
       "</style>\n",
       "<table border=\"1\" class=\"dataframe\">\n",
       "  <thead>\n",
       "    <tr style=\"text-align: right;\">\n",
       "      <th></th>\n",
       "      <th>BeneID</th>\n",
       "      <th>Gender</th>\n",
       "      <th>Race</th>\n",
       "      <th>RenalDiseaseIndicator</th>\n",
       "      <th>State</th>\n",
       "      <th>County</th>\n",
       "      <th>NoOfMonths_PartACov</th>\n",
       "      <th>NoOfMonths_PartBCov</th>\n",
       "      <th>ChronicCond_Alzheimer</th>\n",
       "      <th>ChronicCond_Heartfailure</th>\n",
       "      <th>...</th>\n",
       "      <th>Claim_Duration</th>\n",
       "      <th>Claim_Start_Year</th>\n",
       "      <th>Claim_Start_Month</th>\n",
       "      <th>Insurance_Covered_Per</th>\n",
       "      <th>Total_Claim_Amt</th>\n",
       "      <th>Physician_Count</th>\n",
       "      <th>Claim_Count</th>\n",
       "      <th>Hospital_Count</th>\n",
       "      <th>Chr_Cond_Count</th>\n",
       "      <th>PotentialFraud</th>\n",
       "    </tr>\n",
       "  </thead>\n",
       "  <tbody>\n",
       "    <tr>\n",
       "      <th>0</th>\n",
       "      <td>BENE11001</td>\n",
       "      <td>0</td>\n",
       "      <td>0</td>\n",
       "      <td>0</td>\n",
       "      <td>39</td>\n",
       "      <td>230</td>\n",
       "      <td>12</td>\n",
       "      <td>12</td>\n",
       "      <td>0</td>\n",
       "      <td>1</td>\n",
       "      <td>...</td>\n",
       "      <td>6</td>\n",
       "      <td>2009</td>\n",
       "      <td>4</td>\n",
       "      <td>96.05</td>\n",
       "      <td>27068.0</td>\n",
       "      <td>2</td>\n",
       "      <td>1</td>\n",
       "      <td>1</td>\n",
       "      <td>4</td>\n",
       "      <td>Yes</td>\n",
       "    </tr>\n",
       "    <tr>\n",
       "      <th>1</th>\n",
       "      <td>BENE12511</td>\n",
       "      <td>0</td>\n",
       "      <td>0</td>\n",
       "      <td>0</td>\n",
       "      <td>39</td>\n",
       "      <td>510</td>\n",
       "      <td>12</td>\n",
       "      <td>12</td>\n",
       "      <td>1</td>\n",
       "      <td>1</td>\n",
       "      <td>...</td>\n",
       "      <td>0</td>\n",
       "      <td>2009</td>\n",
       "      <td>12</td>\n",
       "      <td>100.00</td>\n",
       "      <td>600.0</td>\n",
       "      <td>2</td>\n",
       "      <td>2</td>\n",
       "      <td>2</td>\n",
       "      <td>8</td>\n",
       "      <td>Yes</td>\n",
       "    </tr>\n",
       "    <tr>\n",
       "      <th>2</th>\n",
       "      <td>BENE14577</td>\n",
       "      <td>1</td>\n",
       "      <td>0</td>\n",
       "      <td>1</td>\n",
       "      <td>33</td>\n",
       "      <td>70</td>\n",
       "      <td>12</td>\n",
       "      <td>12</td>\n",
       "      <td>1</td>\n",
       "      <td>0</td>\n",
       "      <td>...</td>\n",
       "      <td>0</td>\n",
       "      <td>2009</td>\n",
       "      <td>9</td>\n",
       "      <td>100.00</td>\n",
       "      <td>20.0</td>\n",
       "      <td>3</td>\n",
       "      <td>2</td>\n",
       "      <td>2</td>\n",
       "      <td>8</td>\n",
       "      <td>Yes</td>\n",
       "    </tr>\n",
       "    <tr>\n",
       "      <th>3</th>\n",
       "      <td>BENE15074</td>\n",
       "      <td>1</td>\n",
       "      <td>0</td>\n",
       "      <td>0</td>\n",
       "      <td>39</td>\n",
       "      <td>470</td>\n",
       "      <td>12</td>\n",
       "      <td>12</td>\n",
       "      <td>0</td>\n",
       "      <td>1</td>\n",
       "      <td>...</td>\n",
       "      <td>0</td>\n",
       "      <td>2009</td>\n",
       "      <td>3</td>\n",
       "      <td>100.00</td>\n",
       "      <td>30.0</td>\n",
       "      <td>1</td>\n",
       "      <td>1</td>\n",
       "      <td>1</td>\n",
       "      <td>7</td>\n",
       "      <td>Yes</td>\n",
       "    </tr>\n",
       "    <tr>\n",
       "      <th>4</th>\n",
       "      <td>BENE16973</td>\n",
       "      <td>0</td>\n",
       "      <td>0</td>\n",
       "      <td>0</td>\n",
       "      <td>39</td>\n",
       "      <td>310</td>\n",
       "      <td>12</td>\n",
       "      <td>12</td>\n",
       "      <td>0</td>\n",
       "      <td>0</td>\n",
       "      <td>...</td>\n",
       "      <td>0</td>\n",
       "      <td>2009</td>\n",
       "      <td>9</td>\n",
       "      <td>100.00</td>\n",
       "      <td>50.0</td>\n",
       "      <td>6</td>\n",
       "      <td>3</td>\n",
       "      <td>2</td>\n",
       "      <td>7</td>\n",
       "      <td>Yes</td>\n",
       "    </tr>\n",
       "  </tbody>\n",
       "</table>\n",
       "<p>5 rows × 62 columns</p>\n",
       "</div>"
      ],
      "text/plain": [
       "      BeneID  Gender  Race  RenalDiseaseIndicator  State  County  \\\n",
       "0  BENE11001       0     0                      0     39     230   \n",
       "1  BENE12511       0     0                      0     39     510   \n",
       "2  BENE14577       1     0                      1     33      70   \n",
       "3  BENE15074       1     0                      0     39     470   \n",
       "4  BENE16973       0     0                      0     39     310   \n",
       "\n",
       "   NoOfMonths_PartACov  NoOfMonths_PartBCov  ChronicCond_Alzheimer  \\\n",
       "0                   12                   12                      0   \n",
       "1                   12                   12                      1   \n",
       "2                   12                   12                      1   \n",
       "3                   12                   12                      0   \n",
       "4                   12                   12                      0   \n",
       "\n",
       "   ChronicCond_Heartfailure  ...  Claim_Duration  Claim_Start_Year  \\\n",
       "0                         1  ...               6              2009   \n",
       "1                         1  ...               0              2009   \n",
       "2                         0  ...               0              2009   \n",
       "3                         1  ...               0              2009   \n",
       "4                         0  ...               0              2009   \n",
       "\n",
       "   Claim_Start_Month  Insurance_Covered_Per  Total_Claim_Amt  Physician_Count  \\\n",
       "0                  4                  96.05          27068.0                2   \n",
       "1                 12                 100.00            600.0                2   \n",
       "2                  9                 100.00             20.0                3   \n",
       "3                  3                 100.00             30.0                1   \n",
       "4                  9                 100.00             50.0                6   \n",
       "\n",
       "   Claim_Count  Hospital_Count  Chr_Cond_Count  PotentialFraud  \n",
       "0            1               1               4             Yes  \n",
       "1            2               2               8             Yes  \n",
       "2            2               2               8             Yes  \n",
       "3            1               1               7             Yes  \n",
       "4            3               2               7             Yes  \n",
       "\n",
       "[5 rows x 62 columns]"
      ]
     },
     "execution_count": 4,
     "metadata": {},
     "output_type": "execute_result"
    }
   ],
   "source": [
    "train_data.head()"
   ]
  },
  {
   "cell_type": "code",
   "execution_count": 5,
   "id": "9f4ce850-e38d-4f42-a2a8-0ffd07552233",
   "metadata": {},
   "outputs": [
    {
     "data": {
      "text/html": [
       "<div>\n",
       "<style scoped>\n",
       "    .dataframe tbody tr th:only-of-type {\n",
       "        vertical-align: middle;\n",
       "    }\n",
       "\n",
       "    .dataframe tbody tr th {\n",
       "        vertical-align: top;\n",
       "    }\n",
       "\n",
       "    .dataframe thead th {\n",
       "        text-align: right;\n",
       "    }\n",
       "</style>\n",
       "<table border=\"1\" class=\"dataframe\">\n",
       "  <thead>\n",
       "    <tr style=\"text-align: right;\">\n",
       "      <th></th>\n",
       "      <th>BeneID</th>\n",
       "      <th>Gender</th>\n",
       "      <th>Race</th>\n",
       "      <th>RenalDiseaseIndicator</th>\n",
       "      <th>State</th>\n",
       "      <th>County</th>\n",
       "      <th>NoOfMonths_PartACov</th>\n",
       "      <th>NoOfMonths_PartBCov</th>\n",
       "      <th>ChronicCond_Alzheimer</th>\n",
       "      <th>ChronicCond_Heartfailure</th>\n",
       "      <th>...</th>\n",
       "      <th>Hospital_Stay</th>\n",
       "      <th>Claim_Duration</th>\n",
       "      <th>Claim_Start_Year</th>\n",
       "      <th>Claim_Start_Month</th>\n",
       "      <th>Insurance_Covered_Per</th>\n",
       "      <th>Total_Claim_Amt</th>\n",
       "      <th>Physician_Count</th>\n",
       "      <th>Claim_Count</th>\n",
       "      <th>Hospital_Count</th>\n",
       "      <th>Chr_Cond_Count</th>\n",
       "    </tr>\n",
       "  </thead>\n",
       "  <tbody>\n",
       "    <tr>\n",
       "      <th>0</th>\n",
       "      <td>BENE11001</td>\n",
       "      <td>0</td>\n",
       "      <td>0</td>\n",
       "      <td>0</td>\n",
       "      <td>39</td>\n",
       "      <td>230</td>\n",
       "      <td>12</td>\n",
       "      <td>12</td>\n",
       "      <td>0</td>\n",
       "      <td>1</td>\n",
       "      <td>...</td>\n",
       "      <td>-1</td>\n",
       "      <td>0</td>\n",
       "      <td>2009</td>\n",
       "      <td>6</td>\n",
       "      <td>100.0</td>\n",
       "      <td>30.0</td>\n",
       "      <td>1</td>\n",
       "      <td>1</td>\n",
       "      <td>1</td>\n",
       "      <td>4</td>\n",
       "    </tr>\n",
       "    <tr>\n",
       "      <th>1</th>\n",
       "      <td>BENE11001</td>\n",
       "      <td>0</td>\n",
       "      <td>0</td>\n",
       "      <td>0</td>\n",
       "      <td>39</td>\n",
       "      <td>230</td>\n",
       "      <td>12</td>\n",
       "      <td>12</td>\n",
       "      <td>0</td>\n",
       "      <td>1</td>\n",
       "      <td>...</td>\n",
       "      <td>-1</td>\n",
       "      <td>0</td>\n",
       "      <td>2009</td>\n",
       "      <td>6</td>\n",
       "      <td>100.0</td>\n",
       "      <td>30.0</td>\n",
       "      <td>2</td>\n",
       "      <td>1</td>\n",
       "      <td>1</td>\n",
       "      <td>4</td>\n",
       "    </tr>\n",
       "    <tr>\n",
       "      <th>2</th>\n",
       "      <td>BENE11007</td>\n",
       "      <td>0</td>\n",
       "      <td>1</td>\n",
       "      <td>0</td>\n",
       "      <td>45</td>\n",
       "      <td>610</td>\n",
       "      <td>12</td>\n",
       "      <td>12</td>\n",
       "      <td>0</td>\n",
       "      <td>0</td>\n",
       "      <td>...</td>\n",
       "      <td>-1</td>\n",
       "      <td>0</td>\n",
       "      <td>2009</td>\n",
       "      <td>3</td>\n",
       "      <td>100.0</td>\n",
       "      <td>200.0</td>\n",
       "      <td>2</td>\n",
       "      <td>1</td>\n",
       "      <td>1</td>\n",
       "      <td>6</td>\n",
       "    </tr>\n",
       "    <tr>\n",
       "      <th>3</th>\n",
       "      <td>BENE11007</td>\n",
       "      <td>0</td>\n",
       "      <td>1</td>\n",
       "      <td>0</td>\n",
       "      <td>45</td>\n",
       "      <td>610</td>\n",
       "      <td>12</td>\n",
       "      <td>12</td>\n",
       "      <td>0</td>\n",
       "      <td>0</td>\n",
       "      <td>...</td>\n",
       "      <td>-1</td>\n",
       "      <td>0</td>\n",
       "      <td>2009</td>\n",
       "      <td>7</td>\n",
       "      <td>100.0</td>\n",
       "      <td>10.0</td>\n",
       "      <td>9</td>\n",
       "      <td>5</td>\n",
       "      <td>3</td>\n",
       "      <td>6</td>\n",
       "    </tr>\n",
       "    <tr>\n",
       "      <th>4</th>\n",
       "      <td>BENE11007</td>\n",
       "      <td>0</td>\n",
       "      <td>1</td>\n",
       "      <td>0</td>\n",
       "      <td>45</td>\n",
       "      <td>610</td>\n",
       "      <td>12</td>\n",
       "      <td>12</td>\n",
       "      <td>0</td>\n",
       "      <td>0</td>\n",
       "      <td>...</td>\n",
       "      <td>-1</td>\n",
       "      <td>0</td>\n",
       "      <td>2009</td>\n",
       "      <td>8</td>\n",
       "      <td>100.0</td>\n",
       "      <td>10.0</td>\n",
       "      <td>2</td>\n",
       "      <td>1</td>\n",
       "      <td>1</td>\n",
       "      <td>6</td>\n",
       "    </tr>\n",
       "  </tbody>\n",
       "</table>\n",
       "<p>5 rows × 61 columns</p>\n",
       "</div>"
      ],
      "text/plain": [
       "      BeneID  Gender  Race  RenalDiseaseIndicator  State  County  \\\n",
       "0  BENE11001       0     0                      0     39     230   \n",
       "1  BENE11001       0     0                      0     39     230   \n",
       "2  BENE11007       0     1                      0     45     610   \n",
       "3  BENE11007       0     1                      0     45     610   \n",
       "4  BENE11007       0     1                      0     45     610   \n",
       "\n",
       "   NoOfMonths_PartACov  NoOfMonths_PartBCov  ChronicCond_Alzheimer  \\\n",
       "0                   12                   12                      0   \n",
       "1                   12                   12                      0   \n",
       "2                   12                   12                      0   \n",
       "3                   12                   12                      0   \n",
       "4                   12                   12                      0   \n",
       "\n",
       "   ChronicCond_Heartfailure  ...  Hospital_Stay  Claim_Duration  \\\n",
       "0                         1  ...             -1               0   \n",
       "1                         1  ...             -1               0   \n",
       "2                         0  ...             -1               0   \n",
       "3                         0  ...             -1               0   \n",
       "4                         0  ...             -1               0   \n",
       "\n",
       "   Claim_Start_Year  Claim_Start_Month  Insurance_Covered_Per  \\\n",
       "0              2009                  6                  100.0   \n",
       "1              2009                  6                  100.0   \n",
       "2              2009                  3                  100.0   \n",
       "3              2009                  7                  100.0   \n",
       "4              2009                  8                  100.0   \n",
       "\n",
       "   Total_Claim_Amt  Physician_Count  Claim_Count  Hospital_Count  \\\n",
       "0             30.0                1            1               1   \n",
       "1             30.0                2            1               1   \n",
       "2            200.0                2            1               1   \n",
       "3             10.0                9            5               3   \n",
       "4             10.0                2            1               1   \n",
       "\n",
       "   Chr_Cond_Count  \n",
       "0               4  \n",
       "1               4  \n",
       "2               6  \n",
       "3               6  \n",
       "4               6  \n",
       "\n",
       "[5 rows x 61 columns]"
      ]
     },
     "execution_count": 5,
     "metadata": {},
     "output_type": "execute_result"
    }
   ],
   "source": [
    "test_data.head()"
   ]
  },
  {
   "cell_type": "code",
   "execution_count": 6,
   "id": "bf685a95-6842-48ae-b322-4d3398e0e030",
   "metadata": {
    "scrolled": true
   },
   "outputs": [
    {
     "name": "stdout",
     "output_type": "stream",
     "text": [
      "<class 'pandas.core.frame.DataFrame'>\n",
      "Index: 558211 entries, 0 to 558210\n",
      "Data columns (total 62 columns):\n",
      " #   Column                           Non-Null Count   Dtype  \n",
      "---  ------                           --------------   -----  \n",
      " 0   BeneID                           558211 non-null  object \n",
      " 1   Gender                           558211 non-null  int64  \n",
      " 2   Race                             558211 non-null  int64  \n",
      " 3   RenalDiseaseIndicator            558211 non-null  int64  \n",
      " 4   State                            558211 non-null  int64  \n",
      " 5   County                           558211 non-null  int64  \n",
      " 6   NoOfMonths_PartACov              558211 non-null  int64  \n",
      " 7   NoOfMonths_PartBCov              558211 non-null  int64  \n",
      " 8   ChronicCond_Alzheimer            558211 non-null  int64  \n",
      " 9   ChronicCond_Heartfailure         558211 non-null  int64  \n",
      " 10  ChronicCond_KidneyDisease        558211 non-null  int64  \n",
      " 11  ChronicCond_Cancer               558211 non-null  int64  \n",
      " 12  ChronicCond_ObstrPulmonary       558211 non-null  int64  \n",
      " 13  ChronicCond_Depression           558211 non-null  int64  \n",
      " 14  ChronicCond_Diabetes             558211 non-null  int64  \n",
      " 15  ChronicCond_IschemicHeart        558211 non-null  int64  \n",
      " 16  ChronicCond_Osteoporasis         558211 non-null  int64  \n",
      " 17  ChronicCond_rheumatoidarthritis  558211 non-null  int64  \n",
      " 18  ChronicCond_stroke               558211 non-null  int64  \n",
      " 19  Deceased                         558211 non-null  int64  \n",
      " 20  Age                              558211 non-null  int64  \n",
      " 21  Tot_Reimbursed_Amt               558211 non-null  int64  \n",
      " 22  Tot_Deductible_Amt               558211 non-null  int64  \n",
      " 23  DOB_year                         558211 non-null  int64  \n",
      " 24  DOB_month                        558211 non-null  int64  \n",
      " 25  DOB_day                          558211 non-null  int64  \n",
      " 26  ClaimID                          558211 non-null  object \n",
      " 27  Provider                         558211 non-null  object \n",
      " 28  InscClaimAmtReimbursed           558211 non-null  int64  \n",
      " 29  AttendingPhysician               558211 non-null  int64  \n",
      " 30  OperatingPhysician               558211 non-null  int64  \n",
      " 31  OtherPhysician                   558211 non-null  int64  \n",
      " 32  ClmAdmitDiagnosisCode            558211 non-null  int64  \n",
      " 33  DeductibleAmtPaid                557312 non-null  float64\n",
      " 34  DiagnosisGroupCode               558211 non-null  int64  \n",
      " 35  ClmDiagnosisCode_1               558211 non-null  int64  \n",
      " 36  ClmDiagnosisCode_2               558211 non-null  int64  \n",
      " 37  ClmDiagnosisCode_3               558211 non-null  int64  \n",
      " 38  ClmDiagnosisCode_4               558211 non-null  int64  \n",
      " 39  ClmDiagnosisCode_5               558211 non-null  int64  \n",
      " 40  ClmDiagnosisCode_6               558211 non-null  int64  \n",
      " 41  ClmDiagnosisCode_7               558211 non-null  int64  \n",
      " 42  ClmDiagnosisCode_8               558211 non-null  int64  \n",
      " 43  ClmDiagnosisCode_9               558211 non-null  int64  \n",
      " 44  ClmDiagnosisCode_10              558211 non-null  int64  \n",
      " 45  ClmProcedureCode_1               558211 non-null  int64  \n",
      " 46  ClmProcedureCode_2               558211 non-null  int64  \n",
      " 47  ClmProcedureCode_3               558211 non-null  int64  \n",
      " 48  ClmProcedureCode_4               118 non-null     float64\n",
      " 49  ClmProcedureCode_5               9 non-null       float64\n",
      " 50  ClmProcedureCode_6               0 non-null       float64\n",
      " 51  Hospital_Stay                    558211 non-null  int64  \n",
      " 52  Claim_Duration                   558211 non-null  int64  \n",
      " 53  Claim_Start_Year                 558211 non-null  int64  \n",
      " 54  Claim_Start_Month                558211 non-null  int64  \n",
      " 55  Insurance_Covered_Per            558211 non-null  float64\n",
      " 56  Total_Claim_Amt                  557312 non-null  float64\n",
      " 57  Physician_Count                  558211 non-null  int64  \n",
      " 58  Claim_Count                      558211 non-null  int64  \n",
      " 59  Hospital_Count                   558211 non-null  int64  \n",
      " 60  Chr_Cond_Count                   558211 non-null  int64  \n",
      " 61  PotentialFraud                   558211 non-null  object \n",
      "dtypes: float64(6), int64(52), object(4)\n",
      "memory usage: 268.3+ MB\n"
     ]
    }
   ],
   "source": [
    "train_data.info()"
   ]
  },
  {
   "cell_type": "code",
   "execution_count": 7,
   "id": "3d6bc848-31f6-467b-a214-c37aa25bf3ec",
   "metadata": {},
   "outputs": [
    {
     "data": {
      "text/plain": [
       "BeneID                   0\n",
       "Gender                   0\n",
       "Race                     0\n",
       "RenalDiseaseIndicator    0\n",
       "State                    0\n",
       "                        ..\n",
       "Physician_Count          0\n",
       "Claim_Count              0\n",
       "Hospital_Count           0\n",
       "Chr_Cond_Count           0\n",
       "PotentialFraud           0\n",
       "Length: 62, dtype: int64"
      ]
     },
     "execution_count": 7,
     "metadata": {},
     "output_type": "execute_result"
    }
   ],
   "source": [
    "train_data.isnull().sum()"
   ]
  },
  {
   "cell_type": "code",
   "execution_count": 8,
   "id": "7f5f19fb-f868-4a0c-af54-ea5c06a5348b",
   "metadata": {
    "scrolled": true
   },
   "outputs": [
    {
     "name": "stdout",
     "output_type": "stream",
     "text": [
      "<class 'pandas.core.frame.DataFrame'>\n",
      "Index: 135392 entries, 0 to 135391\n",
      "Data columns (total 61 columns):\n",
      " #   Column                           Non-Null Count   Dtype  \n",
      "---  ------                           --------------   -----  \n",
      " 0   BeneID                           135392 non-null  object \n",
      " 1   Gender                           135392 non-null  int64  \n",
      " 2   Race                             135392 non-null  int64  \n",
      " 3   RenalDiseaseIndicator            135392 non-null  int64  \n",
      " 4   State                            135392 non-null  int64  \n",
      " 5   County                           135392 non-null  int64  \n",
      " 6   NoOfMonths_PartACov              135392 non-null  int64  \n",
      " 7   NoOfMonths_PartBCov              135392 non-null  int64  \n",
      " 8   ChronicCond_Alzheimer            135392 non-null  int64  \n",
      " 9   ChronicCond_Heartfailure         135392 non-null  int64  \n",
      " 10  ChronicCond_KidneyDisease        135392 non-null  int64  \n",
      " 11  ChronicCond_Cancer               135392 non-null  int64  \n",
      " 12  ChronicCond_ObstrPulmonary       135392 non-null  int64  \n",
      " 13  ChronicCond_Depression           135392 non-null  int64  \n",
      " 14  ChronicCond_Diabetes             135392 non-null  int64  \n",
      " 15  ChronicCond_IschemicHeart        135392 non-null  int64  \n",
      " 16  ChronicCond_Osteoporasis         135392 non-null  int64  \n",
      " 17  ChronicCond_rheumatoidarthritis  135392 non-null  int64  \n",
      " 18  ChronicCond_stroke               135392 non-null  int64  \n",
      " 19  Deceased                         135392 non-null  int64  \n",
      " 20  Age                              135392 non-null  int64  \n",
      " 21  Tot_Reimbursed_Amt               135392 non-null  int64  \n",
      " 22  Tot_Deductible_Amt               135392 non-null  int64  \n",
      " 23  DOB_year                         135392 non-null  int64  \n",
      " 24  DOB_month                        135392 non-null  int64  \n",
      " 25  DOB_day                          135392 non-null  int64  \n",
      " 26  ClaimID                          135392 non-null  object \n",
      " 27  Provider                         135392 non-null  object \n",
      " 28  InscClaimAmtReimbursed           135392 non-null  int64  \n",
      " 29  AttendingPhysician               135392 non-null  int64  \n",
      " 30  OperatingPhysician               135392 non-null  int64  \n",
      " 31  OtherPhysician                   135392 non-null  int64  \n",
      " 32  ClmAdmitDiagnosisCode            135392 non-null  int64  \n",
      " 33  DeductibleAmtPaid                135196 non-null  float64\n",
      " 34  DiagnosisGroupCode               135392 non-null  int64  \n",
      " 35  ClmDiagnosisCode_1               135392 non-null  int64  \n",
      " 36  ClmDiagnosisCode_2               135392 non-null  int64  \n",
      " 37  ClmDiagnosisCode_3               135392 non-null  int64  \n",
      " 38  ClmDiagnosisCode_4               135392 non-null  int64  \n",
      " 39  ClmDiagnosisCode_5               135392 non-null  int64  \n",
      " 40  ClmDiagnosisCode_6               135392 non-null  int64  \n",
      " 41  ClmDiagnosisCode_7               135392 non-null  int64  \n",
      " 42  ClmDiagnosisCode_8               135392 non-null  int64  \n",
      " 43  ClmDiagnosisCode_9               135392 non-null  int64  \n",
      " 44  ClmDiagnosisCode_10              135392 non-null  int64  \n",
      " 45  ClmProcedureCode_1               135392 non-null  int64  \n",
      " 46  ClmProcedureCode_2               135392 non-null  int64  \n",
      " 47  ClmProcedureCode_3               135392 non-null  int64  \n",
      " 48  ClmProcedureCode_4               29 non-null      float64\n",
      " 49  ClmProcedureCode_5               2 non-null       float64\n",
      " 50  ClmProcedureCode_6               0 non-null       float64\n",
      " 51  Hospital_Stay                    135392 non-null  int64  \n",
      " 52  Claim_Duration                   135392 non-null  int64  \n",
      " 53  Claim_Start_Year                 135392 non-null  int64  \n",
      " 54  Claim_Start_Month                135392 non-null  int64  \n",
      " 55  Insurance_Covered_Per            135392 non-null  float64\n",
      " 56  Total_Claim_Amt                  135196 non-null  float64\n",
      " 57  Physician_Count                  135392 non-null  int64  \n",
      " 58  Claim_Count                      135392 non-null  int64  \n",
      " 59  Hospital_Count                   135392 non-null  int64  \n",
      " 60  Chr_Cond_Count                   135392 non-null  int64  \n",
      "dtypes: float64(6), int64(52), object(3)\n",
      "memory usage: 64.0+ MB\n"
     ]
    }
   ],
   "source": [
    "test_data.info()"
   ]
  },
  {
   "cell_type": "code",
   "execution_count": 9,
   "id": "5d18b4f2-246a-4e16-abd1-f414db543c3b",
   "metadata": {},
   "outputs": [
    {
     "data": {
      "text/plain": [
       "BeneID                     0\n",
       "Gender                     0\n",
       "Race                       0\n",
       "RenalDiseaseIndicator      0\n",
       "State                      0\n",
       "                        ... \n",
       "Total_Claim_Amt          196\n",
       "Physician_Count            0\n",
       "Claim_Count                0\n",
       "Hospital_Count             0\n",
       "Chr_Cond_Count             0\n",
       "Length: 61, dtype: int64"
      ]
     },
     "execution_count": 9,
     "metadata": {},
     "output_type": "execute_result"
    }
   ],
   "source": [
    "test_data.isnull().sum()"
   ]
  },
  {
   "cell_type": "code",
   "execution_count": 10,
   "id": "234c35b0-a107-4bd3-8eac-d1ba0a79ec8d",
   "metadata": {},
   "outputs": [],
   "source": [
    "# Define the threshold for non-null values\n",
    "threshold = len(train_data) * 0.5  # For example, let's keep columns with at least 50% non-null values\n",
    "\n",
    "# Drop columns with majority null values from train_data\n",
    "train_data = train_data.dropna(axis=1, thresh=threshold)\n",
    "\n",
    "# Create a copy of train_data without the 'PotentialFraud' column\n",
    "train_data_copy = train_data.drop(columns=['PotentialFraud'])\n",
    "\n",
    "# Subset the columns of test_data based on the columns of the new train_data_copy DataFrame\n",
    "test_data = test_data[train_data_copy.columns]"
   ]
  },
  {
   "cell_type": "code",
   "execution_count": 11,
   "id": "3f7c03c4-dcad-44d5-a452-cf6062f1a413",
   "metadata": {},
   "outputs": [
    {
     "data": {
      "image/png": "[encoded data removed]",
      "text/plain": [
       "<Figure size 800x600 with 1 Axes>"
      ]
     },
     "metadata": {},
     "output_type": "display_data"
    }
   ],
   "source": [
    "# Plot the count of each category in the 'PotentialFraud' column\n",
    "# Calculate class percentages\n",
    "class_counts = train_data['PotentialFraud'].value_counts()\n",
    "total_samples = class_counts.sum()\n",
    "class_percentages = [(count / total_samples) * 100 for count in class_counts]\n",
    "\n",
    "# Sort the class counts and percentages in descending order\n",
    "class_counts_sorted = class_counts.sort_values(ascending=False)\n",
    "class_percentages_sorted = [(count / total_samples) * 100 for count in class_counts_sorted]\n",
    "\n",
    "# Plot countplot with percentage labels\n",
    "plt.figure(figsize=(8, 6))\n",
    "ax = sns.countplot(x='PotentialFraud', data=train_data, order=class_counts_sorted.index)\n",
    "plt.title('Class Imbalance in Potential Fraud')\n",
    "\n",
    "# Annotate bars with percentages\n",
    "for i, p in enumerate(ax.patches):\n",
    "    height = p.get_height()\n",
    "    ax.text(p.get_x() + p.get_width() / 2.,\n",
    "            height + 0.2,\n",
    "            f'{class_percentages_sorted[i]:.2f}%',\n",
    "            ha=\"center\")\n",
    "\n",
    "plt.show()"
   ]
  },
  {
   "cell_type": "code",
   "execution_count": 12,
   "id": "40e81096-24be-4af9-a172-4af912283072",
   "metadata": {},
   "outputs": [],
   "source": [
    "from sklearn.model_selection import train_test_split\n",
    "from imblearn.over_sampling import SMOTE\n",
    "from sklearn.impute import SimpleImputer\n",
    "from sklearn.preprocessing import LabelEncoder, RobustScaler\n",
    "from sklearn.metrics import accuracy_score, classification_report, ConfusionMatrixDisplay, RocCurveDisplay, confusion_matrix\n",
    "from sklearn.model_selection import GridSearchCV, RepeatedStratifiedKFold\n",
    "from sklearn.tree import DecisionTreeClassifier\n",
    "from sklearn.ensemble import RandomForestClassifier, AdaBoostClassifier\n",
    "from sklearn.svm import SVC\n",
    "from sklearn.linear_model import LogisticRegression\n",
    "from catboost import CatBoostClassifier\n",
    "from lightgbm import LGBMClassifier\n",
    "from xgboost import XGBClassifier"
   ]
  },
  {
   "cell_type": "code",
   "execution_count": 13,
   "id": "a2ca2f36-0927-4471-88f0-f6d2299ffda6",
   "metadata": {},
   "outputs": [],
   "source": [
    "# Dropping some additional features to evaluate performance\n",
    "\n",
    "train_data = train_data.drop(['NoOfMonths_PartACov', 'NoOfMonths_PartBCov','ChronicCond_Alzheimer',\\\n",
    "                            'ChronicCond_Heartfailure', 'ChronicCond_KidneyDisease',\\\n",
    "                            'ChronicCond_Cancer', 'ChronicCond_ObstrPulmonary',\\\n",
    "                            'ChronicCond_Depression', 'ChronicCond_Diabetes',\\\n",
    "                            'ChronicCond_IschemicHeart', 'ChronicCond_Osteoporasis',\\\n",
    "                            'ChronicCond_rheumatoidarthritis', 'ChronicCond_stroke'], axis=1)\n",
    "\n",
    "test_data = test_data.drop(['NoOfMonths_PartACov', 'NoOfMonths_PartBCov','ChronicCond_Alzheimer',\\\n",
    "                          'ChronicCond_Heartfailure', 'ChronicCond_KidneyDisease',\\\n",
    "                          'ChronicCond_Cancer', 'ChronicCond_ObstrPulmonary',\\\n",
    "                          'ChronicCond_Depression', 'ChronicCond_Diabetes',\\\n",
    "                          'ChronicCond_IschemicHeart', 'ChronicCond_Osteoporasis',\\\n",
    "                          'ChronicCond_rheumatoidarthritis', 'ChronicCond_stroke'], axis=1)"
   ]
  },
  {
   "cell_type": "code",
   "execution_count": 14,
   "id": "814832a8-d453-48ca-9320-a8de7e1e2c3f",
   "metadata": {},
   "outputs": [],
   "source": [
    "# Drop object columns from train and test data\n",
    "train_data = train_data.drop(['BeneID','ClaimID','Provider'], axis=1)\n",
    "test_data = test_data.drop(['BeneID','ClaimID','Provider'], axis=1)"
   ]
  },
  {
   "cell_type": "code",
   "execution_count": 15,
   "id": "313e4f17-58a5-4238-97bb-a960a229520d",
   "metadata": {},
   "outputs": [],
   "source": [
    "# Step 1: Split the data into features (X) and target (y) variables\n",
    "X = train_data.drop(columns=['PotentialFraud'])\n",
    "y = train_data['PotentialFraud']"
   ]
  },
  {
   "cell_type": "code",
   "execution_count": 16,
   "id": "956814cf-3902-4e74-9b69-854868c3fd6c",
   "metadata": {},
   "outputs": [],
   "source": [
    "# Initialize LabelEncoder\n",
    "label_encoder = LabelEncoder()\n",
    "\n",
    "# Fit and transform the target variable\n",
    "y_encoded = label_encoder.fit_transform(y)"
   ]
  },
  {
   "cell_type": "code",
   "execution_count": 17,
   "id": "990813d8-49cb-4d09-9e47-6f9d12bc6a4a",
   "metadata": {},
   "outputs": [],
   "source": [
    "# Step 2: Split the data into training and validation sets\n",
    "X_train, X_valid, y_train, y_valid = train_test_split(X, y_encoded, test_size=0.2, random_state=42)"
   ]
  },
  {
   "cell_type": "code",
   "execution_count": 18,
   "id": "a13f3868-a2cb-4a5c-ab32-3e2ca7d2ec79",
   "metadata": {},
   "outputs": [],
   "source": [
    "# Initialize the imputer with median strategy\n",
    "imputer = SimpleImputer(strategy='median')\n",
    "\n",
    "# Fit and transform the imputer on train_data\n",
    "X_train = imputer.fit_transform(X_train)\n",
    "\n",
    "X_valid = imputer.transform(X_valid)"
   ]
  },
  {
   "cell_type": "code",
   "execution_count": 19,
   "id": "9c81225d-9d85-402f-8044-a8e21c2962b4",
   "metadata": {},
   "outputs": [],
   "source": [
    "# Step 3: Perform standard scaling on the features\n",
    "scaler = RobustScaler()\n",
    "X_train_scaled = scaler.fit_transform(X_train)\n",
    "X_valid_scaled = scaler.transform(X_valid)"
   ]
  },
  {
   "cell_type": "code",
   "execution_count": 20,
   "id": "c3b4f332-38e3-4684-850b-481839306536",
   "metadata": {
    "jp-MarkdownHeadingCollapsed": true
   },
   "outputs": [],
   "source": [
    "## Step 4: Use SMOTE to balance the training data\n",
    "smote = SMOTE(random_state=42)\n",
    "X_train_balanced, y_train_balanced = smote.fit_resample(X_train_scaled, y_train)"
   ]
  },
  {
   "cell_type": "code",
   "execution_count": 21,
   "id": "a71a8d6b-1388-47f5-8dc8-750b21a42bae",
   "metadata": {},
   "outputs": [
    {
     "data": {
      "text/plain": [
       "(552722, 42)"
      ]
     },
     "execution_count": 21,
     "metadata": {},
     "output_type": "execute_result"
    }
   ],
   "source": [
    "X_train_balanced.shape"
   ]
  },
  {
   "cell_type": "code",
   "execution_count": 22,
   "id": "1edc07bf-0700-4b3a-9662-66504296c05e",
   "metadata": {},
   "outputs": [],
   "source": [
    "# Define functions for model fitting, tuning, and evaluation\n",
    "def naive_model(classifier, X_train, y_train):\n",
    "    classifier.fit(X_train, y_train)\n",
    "    return classifier"
   ]
  },
  {
   "cell_type": "code",
   "execution_count": 23,
   "id": "fd66a6a3-4882-43ec-b54c-b2fe7521b486",
   "metadata": {},
   "outputs": [],
   "source": [
    "def evaluate_model(classifier, X_valid, y_valid):\n",
    "    # Check if classifier is an instance of GridSearchCV\n",
    "    if isinstance(classifier, GridSearchCV):\n",
    "        best_classifier = classifier.best_estimator_\n",
    "    else:\n",
    "        best_classifier = classifier\n",
    "        \n",
    "    # Predict on validation set\n",
    "    y_pred = best_classifier.predict(X_valid)\n",
    "    \n",
    "    # Calculate accuracy\n",
    "    accuracy = accuracy_score(y_valid, y_pred)\n",
    "    \n",
    "    # Print accuracy and classification report\n",
    "    print(f\"Accuracy: {accuracy*100:.3f}%\")\n",
    "    print(\"Classification Report:\\n\", classification_report(y_valid, y_pred))\n",
    "    \n",
    "    RocCurveDisplay.from_predictions(y_valid, y_pred)\n",
    "    \n",
    "    # Display confusion matrix\n",
    "    cm = confusion_matrix(y_valid, y_pred)\n",
    "    display(cm)\n",
    "    ConfusionMatrixDisplay.from_predictions(y_valid, y_pred)\n",
    "    \n",
    "    plt.tight_layout()\n",
    "    plt.show()"
   ]
  },
  {
   "cell_type": "markdown",
   "id": "6bb4888f-8279-471b-85b8-c4d6f2c135d6",
   "metadata": {},
   "source": [
    "# Step 5: Fit and evaluate the models"
   ]
  },
  {
   "cell_type": "markdown",
   "id": "bb6e3ea2-1bee-4cbe-abee-4be0458460fe",
   "metadata": {},
   "source": [
    "## Logistic Regression"
   ]
  },
  {
   "cell_type": "code",
   "execution_count": 24,
   "id": "bc78e905-1db1-4278-a150-a6439303876a",
   "metadata": {
    "scrolled": true
   },
   "outputs": [
    {
     "name": "stdout",
     "output_type": "stream",
     "text": [
      "Accuracy: 60.634%\n",
      "Classification Report:\n",
      "               precision    recall  f1-score   support\n",
      "\n",
      "           0       0.64      0.84      0.72     69054\n",
      "           1       0.47      0.23      0.31     42589\n",
      "\n",
      "    accuracy                           0.61    111643\n",
      "   macro avg       0.55      0.53      0.52    111643\n",
      "weighted avg       0.57      0.61      0.57    111643\n",
      "\n"
     ]
    },
    {
     "data": {
      "text/plain": [
       "array([[57805, 11249],\n",
       "       [32700,  9889]], dtype=int64)"
      ]
     },
     "metadata": {},
     "output_type": "display_data"
    },
    {
     "data": {
      "image/png": "[encoded data removed]",
      "text/plain": [
       "<Figure size 640x480 with 1 Axes>"
      ]
     },
     "metadata": {},
     "output_type": "display_data"
    },
    {
     "data": {
      "image/png": "[encoded data removed]",
      "text/plain": [
       "<Figure size 640x480 with 2 Axes>"
      ]
     },
     "metadata": {},
     "output_type": "display_data"
    }
   ],
   "source": [
    "lr_model = naive_model(LogisticRegression(max_iter=1000), X_train_balanced, y_train_balanced)\n",
    "evaluate_model(lr_model, X_valid_scaled, y_valid)"
   ]
  },
  {
   "cell_type": "code",
   "execution_count": null,
   "id": "e73c33dd-23e8-465f-97e0-af388668bb5f",
   "metadata": {},
   "outputs": [],
   "source": [
    "lr_param_grid = {'C': [0.1, 1, 10]}\n",
    "lr_grid = tuned_model(LogisticRegression(max_iter=1000), lr_param_grid, X_train_balanced, y_train_balanced)\n",
    "evaluate_model(lr_grid, X_valid_scaled, y_valid)"
   ]
  },
  {
   "cell_type": "markdown",
   "id": "76c9ff2d-464e-4fc0-938a-8c7a22a869a4",
   "metadata": {},
   "source": [
    "## Decision Trees"
   ]
  },
  {
   "cell_type": "code",
   "execution_count": null,
   "id": "af554663-bcc5-4dde-b6c8-1ef58b0e2e28",
   "metadata": {},
   "outputs": [],
   "source": [
    "dt_model = naive_model(DecisionTreeClassifier(), X_train_balanced, y_train_balanced)\n",
    "evaluate_model(dt_model, X_valid_scaled, y_valid)"
   ]
  },
  {
   "cell_type": "code",
   "execution_count": null,
   "id": "a7dd4faf-303f-4472-b119-e71b40f5f06d",
   "metadata": {},
   "outputs": [],
   "source": [
    "dt_param_grid = {'max_depth': [None, 10, 20, 30]}\n",
    "dt_grid = tuned_model(DecisionTreeClassifier(), dt_param_grid, X_train_balanced, y_train_balanced)\n",
    "evaluate_model(dt_grid, X_valid_scaled, y_valid)"
   ]
  },
  {
   "cell_type": "markdown",
   "id": "90f81d71-e664-4d92-91d5-5453edec8ffb",
   "metadata": {},
   "source": [
    "## Random Forests"
   ]
  },
  {
   "cell_type": "code",
   "execution_count": null,
   "id": "ca00341d-ffd9-4a37-ab91-ca5534ae2c26",
   "metadata": {},
   "outputs": [],
   "source": [
    "rf_model = naive_model(RandomForestClassifier(), X_train_balanced, y_train_balanced)\n",
    "evaluate_model(rf_model, X_valid_scaled, y_valid)"
   ]
  },
  {
   "cell_type": "markdown",
   "id": "91982f0a-bb58-4e0b-9b6e-2e7215858ff0",
   "metadata": {},
   "source": [
    "## Light GBM"
   ]
  },
  {
   "cell_type": "code",
   "execution_count": null,
   "id": "70e22ed0-144f-43d7-b764-1203f8da253c",
   "metadata": {},
   "outputs": [],
   "source": [
    "lgbm_model = naive_model(LGBMClassifier(), X_train_balanced, y_train_balanced)\n",
    "# Light GBM does not require tuning, but you can adjust hyperparameters if needed\n",
    "evaluate_model(lgbm_model, X_valid_scaled, y_valid)"
   ]
  },
  {
   "cell_type": "markdown",
   "id": "a31fba35-656d-485f-9e0a-50bb214d3028",
   "metadata": {},
   "source": [
    "## XGBoost"
   ]
  },
  {
   "cell_type": "code",
   "execution_count": null,
   "id": "d9c2aca7-2274-45e2-84d2-c363902f3fb9",
   "metadata": {},
   "outputs": [],
   "source": [
    "xgb_model = naive_model(XGBClassifier(), X_train_balanced, y_train_balanced)\n",
    "# XGBoost does not require tuning, but you can adjust hyperparameters if needed\n",
    "evaluate_model(xgb_model, X_valid_scaled, y_valid)"
   ]
  }
 ],
 "metadata": {
  "kernelspec": {
   "display_name": "Python 3 (ipykernel)",
   "language": "python",
   "name": "python3"
  },
  "language_info": {
   "codemirror_mode": {
    "name": "ipython",
    "version": 3
   },
   "file_extension": ".py",
   "mimetype": "text/x-python",
   "name": "python",
   "nbconvert_exporter": "python",
   "pygments_lexer": "ipython3",
   "version": "3.11.5"
  }
 },
 "nbformat": 4,
 "nbformat_minor": 5
}
