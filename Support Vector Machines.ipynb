{
 "cells": [
  {
   "cell_type": "code",
   "execution_count": 1,
   "id": "3f531d41-6cf7-4d61-bf78-38cec3d0d2e6",
   "metadata": {},
   "outputs": [],
   "source": [
    "import numpy as np\n",
    "from sklearn.svm import SVC\n",
    "from model_building import naive_model, tuned_model, evaluate_model\n",
    "\n",
    "import warnings\n",
    "warnings.filterwarnings('ignore')"
   ]
  },
  {
   "cell_type": "code",
   "execution_count": 2,
   "id": "4fbf3db0-6a8b-4ce3-9b7e-73f32d0d64f4",
   "metadata": {},
   "outputs": [],
   "source": [
    "# Load the .npz file\n",
    "data = np.load('data.npz')\n",
    "\n",
    "# Access the arrays\n",
    "X_train_balanced = data['X_train_balanced']\n",
    "y_train_balanced = data['y_train_balanced']\n",
    "X_valid_scaled = data['X_valid_scaled']\n",
    "y_valid = data['y_valid']"
   ]
  },
  {
   "cell_type": "code",
   "execution_count": null,
   "id": "15a701e3-1fa1-4ab8-8a44-59c4931f4a4f",
   "metadata": {},
   "outputs": [],
   "source": [
    "svm_model = naive_model(SVC(kernel='linear'), X_train_balanced, y_train_balanced)\n",
    "evaluate_model(svm_model, X_valid_scaled, y_valid)"
   ]
  },
  {
   "cell_type": "code",
   "execution_count": null,
   "id": "3d48367d-b7f8-4518-ad7f-47eb9d491501",
   "metadata": {},
   "outputs": [],
   "source": [
    "svm_param_grid = {'C': [0.1, 1, 10], 'kernel': ['linear', 'rbf', 'poly']}\n",
    "svm_grid = tuned_model(SVC(), svm_param_grid, X_train_balanced, y_train_balanced)\n",
    "evaluate_model(svm_grid, X_valid_scaled, y_valid)"
   ]
  },
  {
   "cell_type": "code",
   "execution_count": null,
   "id": "35f26b4e-5ff2-48a8-a6d0-a73642628e97",
   "metadata": {},
   "outputs": [],
   "source": []
  }
 ],
 "metadata": {
  "kernelspec": {
   "display_name": "Python 3 (ipykernel)",
   "language": "python",
   "name": "python3"
  },
  "language_info": {
   "codemirror_mode": {
    "name": "ipython",
    "version": 3
   },
   "file_extension": ".py",
   "mimetype": "text/x-python",
   "name": "python",
   "nbconvert_exporter": "python",
   "pygments_lexer": "ipython3",
   "version": "3.11.5"
  }
 },
 "nbformat": 4,
 "nbformat_minor": 5
}
