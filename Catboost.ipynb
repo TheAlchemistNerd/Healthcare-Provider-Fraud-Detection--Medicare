{
 "cells": [
  {
   "cell_type": "code",
   "execution_count": 1,
   "id": "006a79b8-c05d-4c21-a4a9-fa69308b3587",
   "metadata": {},
   "outputs": [],
   "source": [
    "import numpy as np\n",
    "from catboost import CatBoostClassifier\n",
    "from model_building import naive_model, tuned_model, evaluate_model\n",
    "\n",
    "import warnings\n",
    "warnings.filterwarnings('ignore')"
   ]
  },
  {
   "cell_type": "code",
   "execution_count": 2,
   "id": "0f878f02-3b0c-406a-a7bd-0ce5a2135eef",
   "metadata": {},
   "outputs": [],
   "source": [
    "# Load the .npz file\n",
    "data = np.load('data.npz')\n",
    "\n",
    "# Access the arrays\n",
    "X_train_balanced = data['X_train_balanced']\n",
    "y_train_balanced = data['y_train_balanced']\n",
    "X_valid_scaled = data['X_valid_scaled']\n",
    "y_valid = data['y_valid']"
   ]
  },
  {
   "cell_type": "code",
   "execution_count": null,
   "id": "9862a9ee-e1ae-48c1-bb3b-b959b2bd8516",
   "metadata": {},
   "outputs": [],
   "source": [
    "catboost_model = naive_model(CatBoostClassifier(), X_train_balanced, y_train_balanced)\n",
    "# CatBoost does not require tuning, but you can adjust hyperparameters if needed\n",
    "evaluate_model(catboost_model, X_valid_scaled, y_valid)"
   ]
  }
 ],
 "metadata": {
  "kernelspec": {
   "display_name": "Python 3 (ipykernel)",
   "language": "python",
   "name": "python3"
  },
  "language_info": {
   "codemirror_mode": {
    "name": "ipython",
    "version": 3
   },
   "file_extension": ".py",
   "mimetype": "text/x-python",
   "name": "python",
   "nbconvert_exporter": "python",
   "pygments_lexer": "ipython3",
   "version": "3.11.5"
  }
 },
 "nbformat": 4,
 "nbformat_minor": 5
}
